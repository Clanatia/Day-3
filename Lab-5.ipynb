{
 "cells": [
  {
   "cell_type": "markdown",
   "metadata": {},
   "source": [
    "# Lab-5 행렬 자르기,합치기 등 기본연습"
   ]
  },
  {
   "cell_type": "code",
   "execution_count": 3,
   "metadata": {
    "collapsed": false
   },
   "outputs": [],
   "source": [
    "import tensorflow as tf\n",
    "import functions"
   ]
  },
  {
   "cell_type": "code",
   "execution_count": 2,
   "metadata": {
    "collapsed": true
   },
   "outputs": [],
   "source": [
    "import tensorflow as tf\n",
    "import functions\n",
    "\n",
    "c1 = tf.constant([1, 3, 5, 7, 9, 0, 2, 4, 6, 8])\n",
    "c2 = tf.constant([1, 3, 5])\n",
    "v1 = tf.constant([[1, 2, 3, 4, 5, 6], [7, 8, 9, 0, 1, 2],[11, 12, 13, 14, 15, 16]])\n",
    "v2 = tf.constant([[1, 2, 3], [7, 8, 9]])"
   ]
  },
  {
   "cell_type": "code",
   "execution_count": 9,
   "metadata": {
    "collapsed": false
   },
   "outputs": [
    {
     "name": "stdout",
     "output_type": "stream",
     "text": [
      "[9]\n"
     ]
    }
   ],
   "source": [
    "functions.showOperation(tf.slice(c1, [4], [1]))     "
   ]
  },
  {
   "cell_type": "code",
   "execution_count": 29,
   "metadata": {
    "collapsed": false
   },
   "outputs": [
    {
     "name": "stdout",
     "output_type": "stream",
     "text": [
      "[[ 1  2  3  4  5  6]\n",
      " [ 7  8  9  0  1  2]\n",
      " [11 12 13 14 15 16]]\n"
     ]
    }
   ],
   "source": [
    "functions.showOperation(v1)"
   ]
  },
  {
   "cell_type": "code",
   "execution_count": 28,
   "metadata": {
    "collapsed": false
   },
   "outputs": [
    {
     "name": "stdout",
     "output_type": "stream",
     "text": [
      "[[ 2  3]\n",
      " [ 8  9]\n",
      " [12 13]]\n"
     ]
    }
   ],
   "source": [
    "functions.showOperation(tf.slice(v1, [0,1], [3, 2]))  "
   ]
  },
  {
   "cell_type": "code",
   "execution_count": 33,
   "metadata": {
    "collapsed": false
   },
   "outputs": [
    {
     "name": "stdout",
     "output_type": "stream",
     "text": [
      "[[ 3  4  5  6]\n",
      " [ 9  0  1  2]\n",
      " [13 14 15 16]]\n"
     ]
    }
   ],
   "source": [
    "functions.showOperation(tf.slice(v1, [0, 2], [3,-1]))"
   ]
  },
  {
   "cell_type": "code",
   "execution_count": 7,
   "metadata": {
    "collapsed": false
   },
   "outputs": [
    {
     "name": "stdout",
     "output_type": "stream",
     "text": [
      "[array([1, 3, 5, 7, 9], dtype=int32), array([0, 2, 4, 6, 8], dtype=int32)]\n",
      "[1 3 5 7 9]\n",
      "[0 2 4 6 8]\n"
     ]
    }
   ],
   "source": [
    "functions.showOperation(tf.split(0, 2, c1)) # [[1, 3, 5, 7, 9], [0, 2, 4, 6, 8]]\n",
    "temp = tf.split(0, 2, c1)\n",
    "functions.showOperation(temp[0])\n",
    "functions.showOperation(temp[1])"
   ]
  },
  {
   "cell_type": "code",
   "execution_count": 47,
   "metadata": {
    "collapsed": false
   },
   "outputs": [
    {
     "name": "stdout",
     "output_type": "stream",
     "text": [
      "[array([1, 3], dtype=int32), array([5, 7], dtype=int32), array([9, 0], dtype=int32), array([2, 4], dtype=int32), array([6, 8], dtype=int32)]\n"
     ]
    }
   ],
   "source": [
    "functions.showOperation(tf.split(0, 5, c1)) # [[1, 3], [5, 7], [9, 0], [2, 4], [6, 8]]"
   ]
  },
  {
   "cell_type": "code",
   "execution_count": 52,
   "metadata": {
    "collapsed": false
   },
   "outputs": [
    {
     "name": "stdout",
     "output_type": "stream",
     "text": [
      "[array([[ 1,  2],\n",
      "       [ 7,  8],\n",
      "       [11, 12]], dtype=int32), array([[ 3,  4],\n",
      "       [ 9,  0],\n",
      "       [13, 14]], dtype=int32), array([[ 5,  6],\n",
      "       [ 1,  2],\n",
      "       [15, 16]], dtype=int32)]\n"
     ]
    }
   ],
   "source": [
    "functions.showOperation(tf.split(1, 3, v1)) # [[[1, 2, 3, 4, 5, 6]], [[7, 8, 9, 0, 1, 2]]]"
   ]
  },
  {
   "cell_type": "code",
   "execution_count": 50,
   "metadata": {
    "collapsed": false
   },
   "outputs": [
    {
     "name": "stdout",
     "output_type": "stream",
     "text": [
      "[array([[1, 2, 3, 4, 5, 6]], dtype=int32), array([[7, 8, 9, 0, 1, 2]], dtype=int32), array([[11, 12, 13, 14, 15, 16]], dtype=int32)]\n"
     ]
    }
   ],
   "source": [
    "functions.showOperation(tf.split(0, 3, v1)) # [[[1, 2, 3], [7, 8, 9]], [[4, 5, 6], [0, 1, 2]]]"
   ]
  },
  {
   "cell_type": "code",
   "execution_count": 51,
   "metadata": {
    "collapsed": false
   },
   "outputs": [
    {
     "name": "stdout",
     "output_type": "stream",
     "text": [
      "[array([[ 1,  2,  3],\n",
      "       [ 7,  8,  9],\n",
      "       [11, 12, 13]], dtype=int32), array([[ 4,  5,  6],\n",
      "       [ 0,  1,  2],\n",
      "       [14, 15, 16]], dtype=int32)]\n"
     ]
    }
   ],
   "source": [
    "functions.showOperation(tf.split(1, 2, v1)) # [[[1, 2, 3], [7, 8, 9]], [[4, 5, 6], [0, 1, 2]]]"
   ]
  },
  {
   "cell_type": "code",
   "execution_count": 53,
   "metadata": {
    "collapsed": false
   },
   "outputs": [
    {
     "name": "stdout",
     "output_type": "stream",
     "text": [
      "[1 3 5 1 3 5 1 3 5]\n"
     ]
    }
   ],
   "source": [
    "functions.showOperation(tf.tile(c2, [3]))   # [1 3 5 1 3 5 1 3 5]\n",
    "                                           # [[1 2 3 1 2 3] [7 8 9 7 8 9] [1 2 3 1 2 3] [7 8 9 7 8 9]]"
   ]
  },
  {
   "cell_type": "code",
   "execution_count": 54,
   "metadata": {
    "collapsed": false
   },
   "outputs": [
    {
     "name": "stdout",
     "output_type": "stream",
     "text": [
      "[[1 2 3 1 2 3]\n",
      " [7 8 9 7 8 9]\n",
      " [1 2 3 1 2 3]\n",
      " [7 8 9 7 8 9]]\n"
     ]
    }
   ],
   "source": [
    "functions.showOperation(tf.tile(v2, [2, 2]))"
   ]
  },
  {
   "cell_type": "code",
   "execution_count": 58,
   "metadata": {
    "collapsed": false
   },
   "outputs": [
    {
     "name": "stdout",
     "output_type": "stream",
     "text": [
      "[[ 1.  0.  0.]\n",
      " [ 0.  1.  0.]\n",
      " [ 0.  0.  1.]\n",
      " [ 0.  1.  0.]]\n"
     ]
    }
   ],
   "source": [
    "functions.showOperation(tf.one_hot([0, 1, 2, 1], 3))\n",
    "# [[ 0.  0.  0.  1.]\n",
    "#  [ 0.  0.  0.  0.]\n",
    "#  [ 0.  1.  0.  0.]]"
   ]
  },
  {
   "cell_type": "code",
   "execution_count": 61,
   "metadata": {
    "collapsed": false
   },
   "outputs": [
    {
     "name": "stdout",
     "output_type": "stream",
     "text": [
      "[[ 0.  0.  0.  1.]\n",
      " [ 0.  0.  0.  0.]\n",
      " [ 0.  1.  0.  0.]]\n"
     ]
    }
   ],
   "source": [
    "functions.showOperation(tf.one_hot([3, -1, 1], 4))"
   ]
  },
  {
   "cell_type": "code",
   "execution_count": 62,
   "metadata": {
    "collapsed": false
   },
   "outputs": [
    {
     "name": "stdout",
     "output_type": "stream",
     "text": [
      "[1 3 5 7 9 0 2 4 6 8 1 3 5]\n"
     ]
    }
   ],
   "source": [
    "functions.showOperation(tf.concat(0, [c1, c2]))     # [1 3 5 7 9 0 2 4 6 8 1 3 5]"
   ]
  },
  {
   "cell_type": "code",
   "execution_count": 87,
   "metadata": {
    "collapsed": false
   },
   "outputs": [
    {
     "name": "stdout",
     "output_type": "stream",
     "text": [
      "[[0 1 0 0 0 0 0 0 0]\n",
      " [0 0 1 0 0 0 0 0 0]\n",
      " [0 0 0 1 0 0 0 0 0]\n",
      " [0 0 0 0 1 0 0 0 0]\n",
      " [0 0 0 0 0 1 0 0 0]\n",
      " [0 0 0 0 0 0 1 0 0]\n",
      " [0 0 0 0 0 0 0 1 0]\n",
      " [0 0 0 0 0 0 0 0 1]]\n"
     ]
    }
   ],
   "source": [
    "d1 = [1,2,3,4,5,6,7,8,9]\n",
    "functions.showOperation(tf.one_hot(d1[:-1], len(d1), 1, 0,-1))"
   ]
  },
  {
   "cell_type": "code",
   "execution_count": null,
   "metadata": {
    "collapsed": true
   },
   "outputs": [],
   "source": []
  }
 ],
 "metadata": {
  "kernelspec": {
   "display_name": "Python 3",
   "language": "python",
   "name": "python3"
  },
  "language_info": {
   "codemirror_mode": {
    "name": "ipython",
    "version": 3
   },
   "file_extension": ".py",
   "mimetype": "text/x-python",
   "name": "python",
   "nbconvert_exporter": "python",
   "pygments_lexer": "ipython3",
   "version": "3.4.5"
  }
 },
 "nbformat": 4,
 "nbformat_minor": 1
}
